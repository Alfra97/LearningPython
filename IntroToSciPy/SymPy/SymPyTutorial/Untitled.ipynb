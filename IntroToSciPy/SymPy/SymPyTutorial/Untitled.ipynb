{
 "cells": [
  {
   "cell_type": "code",
   "execution_count": 1,
   "metadata": {},
   "outputs": [],
   "source": [
    "from sympy import *\n",
    "init_printing()"
   ]
  },
  {
   "cell_type": "code",
   "execution_count": 2,
   "metadata": {},
   "outputs": [],
   "source": [
    "r,c,epsilon,r_h,J,tau=symbols('r c epsilon r_h J tau')"
   ]
  },
  {
   "cell_type": "code",
   "execution_count": 3,
   "metadata": {},
   "outputs": [],
   "source": [
    "r=Function('r')"
   ]
  },
  {
   "cell_type": "code",
   "execution_count": 4,
   "metadata": {},
   "outputs": [
    {
     "data": {
      "image/png": "[encoded data removed]",
      "text/latex": [
       "$\\displaystyle \\frac{d}{d \\tau} r{\\left(\\tau \\right)}$"
      ],
      "text/plain": [
       "d       \n",
       "──(r(τ))\n",
       "dτ      "
      ]
     },
     "execution_count": 4,
     "metadata": {},
     "output_type": "execute_result"
    }
   ],
   "source": [
    "r(tau).diff(tau)"
   ]
  },
  {
   "cell_type": "code",
   "execution_count": 5,
   "metadata": {},
   "outputs": [
    {
     "data": {
      "image/png": "[encoded data removed]",
      "text/latex": [
       "$\\displaystyle \\frac{\\left(\\frac{d}{d \\tau} r{\\left(\\tau \\right)}\\right)^{2}}{c^{2}} = \\epsilon^{2} - \\left(- \\frac{r_{h}}{r{\\left(\\tau \\right)}} + 1\\right) \\left(\\frac{J^{2} c^{2}}{r^{2}{\\left(\\tau \\right)}} + 1\\right)$"
      ],
      "text/plain": [
       "          2                                \n",
       "⎛d       ⎞                                 \n",
       "⎜──(r(τ))⎟                      ⎛ 2  2    ⎞\n",
       "⎝dτ      ⎠     2   ⎛   rₕ     ⎞ ⎜J ⋅c     ⎟\n",
       "─────────── = ε  - ⎜- ──── + 1⎟⋅⎜───── + 1⎟\n",
       "      2            ⎝  r(τ)    ⎠ ⎜ 2       ⎟\n",
       "     c                          ⎝r (τ)    ⎠"
      ]
     },
     "execution_count": 5,
     "metadata": {},
     "output_type": "execute_result"
    }
   ],
   "source": [
    "Eq(r(tau).diff(tau)**2/c**2,epsilon**2-(1-r_h/r(tau))*(1+J**2*c**2/r(tau)**2))"
   ]
  },
  {
   "cell_type": "code",
   "execution_count": 6,
   "metadata": {},
   "outputs": [
    {
     "data": {
      "image/png": "[encoded data removed]",
      "text/latex": [
       "$\\displaystyle - \\frac{2 J^{2} c^{2} \\left(\\frac{r_{h}}{r{\\left(\\tau \\right)}} - 1\\right) \\frac{d}{d \\tau} r{\\left(\\tau \\right)}}{r^{3}{\\left(\\tau \\right)}} - \\frac{r_{h} \\left(\\frac{J^{2} c^{2}}{r^{2}{\\left(\\tau \\right)}} + 1\\right) \\frac{d}{d \\tau} r{\\left(\\tau \\right)}}{r^{2}{\\left(\\tau \\right)}}$"
      ],
      "text/plain": [
       "                                   ⎛ 2  2    ⎞         \n",
       "                                   ⎜J ⋅c     ⎟ d       \n",
       "     2  2 ⎛ rₕ     ⎞ d          rₕ⋅⎜───── + 1⎟⋅──(r(τ))\n",
       "  2⋅J ⋅c ⋅⎜──── - 1⎟⋅──(r(τ))      ⎜ 2       ⎟ dτ      \n",
       "          ⎝r(τ)    ⎠ dτ            ⎝r (τ)    ⎠         \n",
       "- ─────────────────────────── - ───────────────────────\n",
       "              3                           2            \n",
       "             r (τ)                       r (τ)         "
      ]
     },
     "execution_count": 6,
     "metadata": {},
     "output_type": "execute_result"
    }
   ],
   "source": [
    "diff(epsilon**2-(1-r_h/r(tau))*(1+J**2*c**2/r(tau)**2),tau)"
   ]
  },
  {
   "cell_type": "code",
   "execution_count": 7,
   "metadata": {},
   "outputs": [
    {
     "data": {
      "image/png": "[encoded data removed]",
      "text/latex": [
       "$\\displaystyle - \\frac{3 J^{2} c^{2} r_{h} \\frac{d}{d \\tau} r{\\left(\\tau \\right)}}{r^{4}{\\left(\\tau \\right)}} + \\frac{2 J^{2} c^{2} \\frac{d}{d \\tau} r{\\left(\\tau \\right)}}{r^{3}{\\left(\\tau \\right)}} - \\frac{r_{h} \\frac{d}{d \\tau} r{\\left(\\tau \\right)}}{r^{2}{\\left(\\tau \\right)}}$"
      ],
      "text/plain": [
       "     2  2    d             2  2 d             d       \n",
       "  3⋅J ⋅c ⋅rₕ⋅──(r(τ))   2⋅J ⋅c ⋅──(r(τ))   rₕ⋅──(r(τ))\n",
       "             dτ                 dτ            dτ      \n",
       "- ─────────────────── + ──────────────── - ───────────\n",
       "          4                   3                2      \n",
       "         r (τ)               r (τ)            r (τ)   "
      ]
     },
     "execution_count": 7,
     "metadata": {},
     "output_type": "execute_result"
    }
   ],
   "source": [
    "expand(_)"
   ]
  },
  {
   "cell_type": "code",
   "execution_count": 8,
   "metadata": {
    "scrolled": true
   },
   "outputs": [
    {
     "data": {
      "image/png": "[encoded data removed]",
      "text/latex": [
       "$\\displaystyle \\frac{\\left(- 3 J^{2} c^{2} r_{h} + 2 J^{2} c^{2} r{\\left(\\tau \\right)} - r_{h} r^{2}{\\left(\\tau \\right)}\\right) \\frac{d}{d \\tau} r{\\left(\\tau \\right)}}{r^{4}{\\left(\\tau \\right)}}$"
      ],
      "text/plain": [
       "⎛     2  2         2  2            2   ⎞ d       \n",
       "⎝- 3⋅J ⋅c ⋅rₕ + 2⋅J ⋅c ⋅r(τ) - rₕ⋅r (τ)⎠⋅──(r(τ))\n",
       "                                         dτ      \n",
       "─────────────────────────────────────────────────\n",
       "                       4                         \n",
       "                      r (τ)                      "
      ]
     },
     "execution_count": 8,
     "metadata": {},
     "output_type": "execute_result"
    }
   ],
   "source": [
    "factor(_)"
   ]
  },
  {
   "cell_type": "code",
   "execution_count": 9,
   "metadata": {},
   "outputs": [
    {
     "name": "stdout",
     "output_type": "stream",
     "text": [
      "(-3*J**2*c**2*r_h + 2*J**2*c**2*r(tau) - r_h*r(tau)**2)*Derivative(r(tau), tau)/r(tau)**4\n"
     ]
    }
   ],
   "source": [
    "print(_)"
   ]
  },
  {
   "cell_type": "code",
   "execution_count": 10,
   "metadata": {},
   "outputs": [
    {
     "data": {
      "image/png": "[encoded data removed]",
      "text/latex": [
       "$\\displaystyle \\frac{2 \\frac{d}{d \\tau} r{\\left(\\tau \\right)} \\frac{d^{2}}{d \\tau^{2}} r{\\left(\\tau \\right)}}{c^{2}}$"
      ],
      "text/plain": [
       "             2      \n",
       "  d         d       \n",
       "2⋅──(r(τ))⋅───(r(τ))\n",
       "  dτ         2      \n",
       "           dτ       \n",
       "────────────────────\n",
       "          2         \n",
       "         c          "
      ]
     },
     "execution_count": 10,
     "metadata": {},
     "output_type": "execute_result"
    }
   ],
   "source": [
    "diff(r(tau).diff(tau)**2/c**2,tau)"
   ]
  },
  {
   "cell_type": "code",
   "execution_count": 11,
   "metadata": {},
   "outputs": [
    {
     "name": "stdout",
     "output_type": "stream",
     "text": [
      "2*Derivative(r(tau), tau)*Derivative(r(tau), (tau, 2))/c**2\n"
     ]
    }
   ],
   "source": [
    "print(_)"
   ]
  },
  {
   "cell_type": "code",
   "execution_count": 12,
   "metadata": {},
   "outputs": [
    {
     "data": {
      "image/png": "[encoded data removed]",
      "text/latex": [
       "$\\displaystyle \\frac{\\left(- 3 J^{2} c^{2} r_{h} + 2 J^{2} c^{2} r{\\left(\\tau \\right)} - r_{h} r^{2}{\\left(\\tau \\right)}\\right) \\frac{d}{d \\tau} r{\\left(\\tau \\right)}}{r^{4}{\\left(\\tau \\right)}} = \\frac{2 \\frac{d}{d \\tau} r{\\left(\\tau \\right)} \\frac{d^{2}}{d \\tau^{2}} r{\\left(\\tau \\right)}}{c^{2}}$"
      ],
      "text/plain": [
       "                                                                 2      \n",
       "                                                      d         d       \n",
       "⎛     2  2         2  2            2   ⎞ d          2⋅──(r(τ))⋅───(r(τ))\n",
       "⎝- 3⋅J ⋅c ⋅rₕ + 2⋅J ⋅c ⋅r(τ) - rₕ⋅r (τ)⎠⋅──(r(τ))     dτ         2      \n",
       "                                         dτ                    dτ       \n",
       "───────────────────────────────────────────────── = ────────────────────\n",
       "                       4                                      2         \n",
       "                      r (τ)                                  c          "
      ]
     },
     "execution_count": 12,
     "metadata": {},
     "output_type": "execute_result"
    }
   ],
   "source": [
    "Eq((-3*J**2*c**2*r_h + 2*J**2*c**2*r(tau) - r_h*r(tau)**2)*Derivative(r(tau), tau)/r(tau)**4,2*Derivative(r(tau), tau)*Derivative(r(tau), (tau, 2))/c**2)"
   ]
  },
  {
   "cell_type": "code",
   "execution_count": 13,
   "metadata": {},
   "outputs": [
    {
     "data": {
      "image/png": "[encoded data removed]",
      "text/latex": [
       "$\\displaystyle \\frac{\\left(- 3 J^{2} c^{2} r_{h} + 2 J^{2} c^{2} r{\\left(\\tau \\right)} - r_{h} r^{2}{\\left(\\tau \\right)}\\right) \\frac{d}{d \\tau} r{\\left(\\tau \\right)}}{r^{4}{\\left(\\tau \\right)}} = \\frac{2 \\frac{d}{d \\tau} r{\\left(\\tau \\right)} \\frac{d^{2}}{d \\tau^{2}} r{\\left(\\tau \\right)}}{c^{2}}$"
      ],
      "text/plain": [
       "                                                                 2      \n",
       "                                                      d         d       \n",
       "⎛     2  2         2  2            2   ⎞ d          2⋅──(r(τ))⋅───(r(τ))\n",
       "⎝- 3⋅J ⋅c ⋅rₕ + 2⋅J ⋅c ⋅r(τ) - rₕ⋅r (τ)⎠⋅──(r(τ))     dτ         2      \n",
       "                                         dτ                    dτ       \n",
       "───────────────────────────────────────────────── = ────────────────────\n",
       "                       4                                      2         \n",
       "                      r (τ)                                  c          "
      ]
     },
     "execution_count": 13,
     "metadata": {},
     "output_type": "execute_result"
    }
   ],
   "source": [
    "factor(_)"
   ]
  },
  {
   "cell_type": "code",
   "execution_count": 14,
   "metadata": {},
   "outputs": [
    {
     "data": {
      "image/png": "[encoded data removed]",
      "text/latex": [
       "$\\displaystyle \\frac{2 \\frac{d}{d \\tau} r{\\left(\\tau \\right)} \\frac{d^{2}}{d \\tau^{2}} r{\\left(\\tau \\right)}}{c^{2}} = \\frac{\\left(- 3 J^{2} c^{2} r_{h} + 2 J^{2} c^{2} r{\\left(\\tau \\right)} - r_{h} r^{2}{\\left(\\tau \\right)}\\right) \\frac{d}{d \\tau} r{\\left(\\tau \\right)}}{r^{4}{\\left(\\tau \\right)}}$"
      ],
      "text/plain": [
       "             2                                                          \n",
       "  d         d                                                           \n",
       "2⋅──(r(τ))⋅───(r(τ))   ⎛     2  2         2  2            2   ⎞ d       \n",
       "  dτ         2         ⎝- 3⋅J ⋅c ⋅rₕ + 2⋅J ⋅c ⋅r(τ) - rₕ⋅r (τ)⎠⋅──(r(τ))\n",
       "           dτ                                                   dτ      \n",
       "──────────────────── = ─────────────────────────────────────────────────\n",
       "          2                                   4                         \n",
       "         c                                   r (τ)                      "
      ]
     },
     "execution_count": 14,
     "metadata": {},
     "output_type": "execute_result"
    }
   ],
   "source": [
    "simplify(_)"
   ]
  },
  {
   "cell_type": "code",
   "execution_count": 15,
   "metadata": {},
   "outputs": [
    {
     "name": "stdout",
     "output_type": "stream",
     "text": [
      "Eq(2*Derivative(r(tau), tau)*Derivative(r(tau), (tau, 2))/c**2, (-3*J**2*c**2*r_h + 2*J**2*c**2*r(tau) - r_h*r(tau)**2)*Derivative(r(tau), tau)/r(tau)**4)\n"
     ]
    }
   ],
   "source": [
    "print(_)"
   ]
  },
  {
   "cell_type": "code",
   "execution_count": 16,
   "metadata": {},
   "outputs": [
    {
     "data": {
      "image/png": "[encoded data removed]",
      "text/latex": [
       "$\\displaystyle \\frac{c^{2} \\left(- 3 J^{2} c^{2} r_{h} + 2 J^{2} c^{2} r{\\left(\\tau \\right)} - r_{h} r^{2}{\\left(\\tau \\right)}\\right)}{2 r^{4}{\\left(\\tau \\right)}}$"
      ],
      "text/plain": [
       " 2 ⎛     2  2         2  2            2   ⎞\n",
       "c ⋅⎝- 3⋅J ⋅c ⋅rₕ + 2⋅J ⋅c ⋅r(τ) - rₕ⋅r (τ)⎠\n",
       "───────────────────────────────────────────\n",
       "                     4                     \n",
       "                  2⋅r (τ)                  "
      ]
     },
     "execution_count": 16,
     "metadata": {},
     "output_type": "execute_result"
    }
   ],
   "source": [
    "(-3*J**2*c**2*r_h + 2*J**2*c**2*r(tau) - r_h*r(tau)**2)*c**2/(2*r(tau)**4)"
   ]
  },
  {
   "cell_type": "code",
   "execution_count": 17,
   "metadata": {},
   "outputs": [
    {
     "name": "stdout",
     "output_type": "stream",
     "text": [
      "c**2*(-3*J**2*c**2*r_h + 2*J**2*c**2*r(tau) - r_h*r(tau)**2)/(2*r(tau)**4)\n"
     ]
    }
   ],
   "source": [
    "print(_)"
   ]
  },
  {
   "cell_type": "code",
   "execution_count": 18,
   "metadata": {},
   "outputs": [
    {
     "data": {
      "image/png": "[encoded data removed]",
      "text/latex": [
       "$\\displaystyle \\left[ \\frac{J c \\left(J c - \\sqrt{J^{2} c^{2} - 3 r_{h}^{2}}\\right)}{r_{h}}, \\  \\frac{J c \\left(J c + \\sqrt{J^{2} c^{2} - 3 r_{h}^{2}}\\right)}{r_{h}}\\right]$"
      ],
      "text/plain": [
       "⎡    ⎛         _______________⎞      ⎛         _______________⎞⎤\n",
       "⎢    ⎜        ╱  2  2       2 ⎟      ⎜        ╱  2  2       2 ⎟⎥\n",
       "⎢J⋅c⋅⎝J⋅c - ╲╱  J ⋅c  - 3⋅rₕ  ⎠  J⋅c⋅⎝J⋅c + ╲╱  J ⋅c  - 3⋅rₕ  ⎠⎥\n",
       "⎢──────────────────────────────, ──────────────────────────────⎥\n",
       "⎣              rₕ                              rₕ              ⎦"
      ]
     },
     "execution_count": 18,
     "metadata": {},
     "output_type": "execute_result"
    }
   ],
   "source": [
    "solve(c**2*(-3*J**2*c**2*r_h + 2*J**2*c**2*r(tau) - r_h*r(tau)**2)/(2*r(tau)**4),r(tau))"
   ]
  },
  {
   "cell_type": "code",
   "execution_count": 19,
   "metadata": {},
   "outputs": [
    {
     "name": "stdout",
     "output_type": "stream",
     "text": [
      "[J*c*(J*c - sqrt(J**2*c**2 - 3*r_h**2))/r_h, J*c*(J*c + sqrt(J**2*c**2 - 3*r_h**2))/r_h]\n"
     ]
    }
   ],
   "source": [
    "print(_)"
   ]
  },
  {
   "cell_type": "code",
   "execution_count": 20,
   "metadata": {},
   "outputs": [
    {
     "data": {
      "image/png": "[encoded data removed]",
      "text/latex": [
       "$\\displaystyle \\frac{J c \\left(J c - \\sqrt{J^{2} c^{2} - 3 r_{h}^{2}}\\right)}{r_{h}} = \\frac{J c \\left(J c + \\sqrt{J^{2} c^{2} - 3 r_{h}^{2}}\\right)}{r_{h}}$"
      ],
      "text/plain": [
       "    ⎛         _______________⎞       ⎛         _______________⎞\n",
       "    ⎜        ╱  2  2       2 ⎟       ⎜        ╱  2  2       2 ⎟\n",
       "J⋅c⋅⎝J⋅c - ╲╱  J ⋅c  - 3⋅rₕ  ⎠   J⋅c⋅⎝J⋅c + ╲╱  J ⋅c  - 3⋅rₕ  ⎠\n",
       "────────────────────────────── = ──────────────────────────────\n",
       "              rₕ                               rₕ              "
      ]
     },
     "execution_count": 20,
     "metadata": {},
     "output_type": "execute_result"
    }
   ],
   "source": [
    "Eq(J*c*(J*c - sqrt(J**2*c**2 - 3*r_h**2))/r_h,J*c*(J*c + sqrt(J**2*c**2 - 3*r_h**2))/r_h)"
   ]
  },
  {
   "cell_type": "code",
   "execution_count": 21,
   "metadata": {},
   "outputs": [
    {
     "data": {
      "image/png": "[encoded data removed]",
      "text/latex": [
       "$\\displaystyle \\left[ 0, \\  - \\frac{\\sqrt{3} r_{h}}{c}, \\  \\frac{\\sqrt{3} r_{h}}{c}\\right]$"
      ],
      "text/plain": [
       "⎡   -√3⋅rₕ   √3⋅rₕ⎤\n",
       "⎢0, ───────, ─────⎥\n",
       "⎣      c       c  ⎦"
      ]
     },
     "execution_count": 21,
     "metadata": {},
     "output_type": "execute_result"
    }
   ],
   "source": [
    "solve(_,J)"
   ]
  },
  {
   "cell_type": "code",
   "execution_count": 22,
   "metadata": {},
   "outputs": [
    {
     "name": "stdout",
     "output_type": "stream",
     "text": [
      "[0, -sqrt(3)*r_h/c, sqrt(3)*r_h/c]\n"
     ]
    }
   ],
   "source": [
    "print(_)"
   ]
  },
  {
   "cell_type": "code",
   "execution_count": 23,
   "metadata": {},
   "outputs": [
    {
     "data": {
      "image/png": "[encoded data removed]",
      "text/latex": [
       "$\\displaystyle \\frac{J c \\left(J c - \\sqrt{J^{2} c^{2} - 3 r_{h}^{2}}\\right)}{r_{h}} = \\frac{J c \\left(J c + \\sqrt{J^{2} c^{2} - 3 r_{h}^{2}}\\right)}{r_{h}}$"
      ],
      "text/plain": [
       "    ⎛         _______________⎞       ⎛         _______________⎞\n",
       "    ⎜        ╱  2  2       2 ⎟       ⎜        ╱  2  2       2 ⎟\n",
       "J⋅c⋅⎝J⋅c - ╲╱  J ⋅c  - 3⋅rₕ  ⎠   J⋅c⋅⎝J⋅c + ╲╱  J ⋅c  - 3⋅rₕ  ⎠\n",
       "────────────────────────────── = ──────────────────────────────\n",
       "              rₕ                               rₕ              "
      ]
     },
     "execution_count": 23,
     "metadata": {},
     "output_type": "execute_result"
    }
   ],
   "source": [
    "Eq(J*c*(J*c - sqrt(J**2*c**2 - 3*r_h**2))/r_h,J*c*(J*c + sqrt(J**2*c**2 - 3*r_h**2))/r_h)"
   ]
  },
  {
   "cell_type": "code",
   "execution_count": 24,
   "metadata": {},
   "outputs": [
    {
     "name": "stdout",
     "output_type": "stream",
     "text": [
      "\\frac{J c \\left(J c - \\sqrt{J^{2} c^{2} - 3 r_{h}^{2}}\\right)}{r_{h}} = \\frac{J c \\left(J c + \\sqrt{J^{2} c^{2} - 3 r_{h}^{2}}\\right)}{r_{h}}\n"
     ]
    }
   ],
   "source": [
    "print(latex(_))"
   ]
  },
  {
   "cell_type": "code",
   "execution_count": 25,
   "metadata": {},
   "outputs": [],
   "source": [
    "r_minus=J*c*(J*c - sqrt(J**2*c**2 - 3*r_h**2))/r_h"
   ]
  },
  {
   "cell_type": "code",
   "execution_count": 26,
   "metadata": {},
   "outputs": [
    {
     "data": {
      "image/png": "[encoded data removed]",
      "text/latex": [
       "$\\displaystyle 3 r_{h}$"
      ],
      "text/plain": [
       "3⋅rₕ"
      ]
     },
     "execution_count": 26,
     "metadata": {},
     "output_type": "execute_result"
    }
   ],
   "source": [
    "r_minus.subs(J,-sqrt(3)*r_h/c)"
   ]
  },
  {
   "cell_type": "code",
   "execution_count": 27,
   "metadata": {},
   "outputs": [
    {
     "data": {
      "image/png": "[encoded data removed]",
      "text/latex": [
       "$\\displaystyle 3 r_{h}$"
      ],
      "text/plain": [
       "3⋅rₕ"
      ]
     },
     "execution_count": 27,
     "metadata": {},
     "output_type": "execute_result"
    }
   ],
   "source": [
    "r_minus.subs(J,+sqrt(3)*r_h/c)"
   ]
  },
  {
   "cell_type": "code",
   "execution_count": null,
   "metadata": {},
   "outputs": [],
   "source": []
  }
 ],
 "metadata": {
  "kernelspec": {
   "display_name": "Python 3",
   "language": "python",
   "name": "python3"
  },
  "language_info": {
   "codemirror_mode": {
    "name": "ipython",
    "version": 3
   },
   "file_extension": ".py",
   "mimetype": "text/x-python",
   "name": "python",
   "nbconvert_exporter": "python",
   "pygments_lexer": "ipython3",
   "version": "3.8.3"
  }
 },
 "nbformat": 4,
 "nbformat_minor": 4
}
